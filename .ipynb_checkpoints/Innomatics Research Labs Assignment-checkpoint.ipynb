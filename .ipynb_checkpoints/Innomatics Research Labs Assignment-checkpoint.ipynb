{
 "cells": [
  {
   "cell_type": "code",
   "execution_count": null,
   "id": "c888e2bc",
   "metadata": {},
   "outputs": [],
   "source": [
    "import matplotlib.pyplot as plt\n",
    "import numpy as np\n",
    "import pandas as pd\n",
    "import seaborn as sns\n",
    "\n",
    "plt.style.use(\"ggplot\")"
   ]
  },
  {
   "cell_type": "code",
   "execution_count": null,
   "id": "e8174c1c",
   "metadata": {},
   "outputs": [],
   "source": [
    "movies_data = pd.read_csv(\"movies.csv\")\n",
    "movies_data"
   ]
  },
  {
   "cell_type": "code",
   "execution_count": null,
   "id": "cc3037cb",
   "metadata": {},
   "outputs": [],
   "source": [
    "ratings_data = pd.read_csv(\"ratings.csv\")\n",
    "ratings_data"
   ]
  },
  {
   "cell_type": "code",
   "execution_count": null,
   "id": "1c916bf3",
   "metadata": {},
   "outputs": [],
   "source": [
    "links_data = pd.read_csv(\"links.csv\")\n",
    "links_data"
   ]
  },
  {
   "cell_type": "code",
   "execution_count": null,
   "id": "e953ee56",
   "metadata": {},
   "outputs": [],
   "source": [
    "tags_data = pd.read_csv(\"tags.csv\")\n",
    "tags_data"
   ]
  },
  {
   "cell_type": "code",
   "execution_count": null,
   "id": "782bb9b7",
   "metadata": {},
   "outputs": [],
   "source": [
    "combined_data = (\n",
    "    movies_data.merge(ratings_data, on=\"movieId\", how=\"inner\")\n",
    "    .merge(tags_data, on=\"movieId\", how=\"inner\")\n",
    "    .merge(links_data, on=\"movieId\", how=\"inner\")\n",
    ")\n",
    "print(\"The Shape of data is {}\".format(combined_data.shape))\n",
    "combined_data.head()"
   ]
  },
  {
   "cell_type": "code",
   "execution_count": null,
   "id": "696926dc",
   "metadata": {},
   "outputs": [],
   "source": [
    "### What is the shape of \"movies.csv\"?"
   ]
  },
  {
   "cell_type": "code",
   "execution_count": null,
   "id": "24265ea7",
   "metadata": {},
   "outputs": [],
   "source": [
    "print(f\"The shape of the movies.csv is {movies_data.shape}\")\n"
   ]
  },
  {
   "cell_type": "code",
   "execution_count": null,
   "id": "c17dd1ea",
   "metadata": {},
   "outputs": [],
   "source": [
    "### What is the shape of \"ratings.csv\"?"
   ]
  },
  {
   "cell_type": "code",
   "execution_count": null,
   "id": "76b4b847",
   "metadata": {},
   "outputs": [],
   "source": [
    "print(f\"The shape of the ratings.csv is {ratings_data.shape}\")\n"
   ]
  },
  {
   "cell_type": "code",
   "execution_count": null,
   "id": "e56a4d40",
   "metadata": {},
   "outputs": [],
   "source": [
    "### How many unique \"userId\" are available in \"ratings.csv\"?"
   ]
  },
  {
   "cell_type": "code",
   "execution_count": null,
   "id": "cd9ba714",
   "metadata": {},
   "outputs": [],
   "source": [
    "len(ratings_data[\"userId\"].unique())"
   ]
  },
  {
   "cell_type": "code",
   "execution_count": null,
   "id": "82c4841b",
   "metadata": {},
   "outputs": [],
   "source": [
    "### Which movie has recieved maximum number of user ratings?"
   ]
  },
  {
   "cell_type": "code",
   "execution_count": null,
   "id": "668a1ef4",
   "metadata": {},
   "outputs": [],
   "source": [
    "user_ratings_count = ratings_data[\"movieId\"].value_counts()\n",
    "max_user_ratings_movieId = user_ratings_count.idxmax()\n",
    "max_user_ratings_count = user_ratings_count.max()\n",
    "max_user_ratings_title = movies_data.loc[\n",
    "    movies_data[\"movieId\"] == max_user_ratings_movieId, \"title\"\n",
    "].values[0]\n",
    "\n",
    "print(\"Movie with the maximum number of user ratings:\")\n",
    "print(\"MovieId:\", max_user_ratings_movieId)\n",
    "print(\"Title:\", max_user_ratings_title)\n",
    "print(\"Number of Ratings:\", max_user_ratings_count)"
   ]
  },
  {
   "cell_type": "code",
   "execution_count": null,
   "id": "b3113551",
   "metadata": {},
   "outputs": [],
   "source": [
    "### Select all the correct tags submitted by users to \"Matrix, The (1999)\" movie"
   ]
  },
  {
   "cell_type": "code",
   "execution_count": null,
   "id": "a530e171",
   "metadata": {},
   "outputs": [],
   "source": [
    "matrix_movieId = movies_data[\n",
    "    movies_data[\"title\"].str.contains(\"Matrix, The \\(1999\\)\", regex=True)\n",
    "][\"movieId\"].iloc[0]\n",
    "tags_data = pd.read_csv(\"tags.csv\", encoding=\"utf-8\")\n",
    "matrix_tags = tags_data[tags_data[\"movieId\"] == matrix_movieId][\"tag\"].unique()\n",
    "\n",
    "print(\"Tags for The Matrix (1999):\")\n",
    "print(matrix_tags)"
   ]
  },
  {
   "cell_type": "code",
   "execution_count": null,
   "id": "459dc966",
   "metadata": {},
   "outputs": [],
   "source": [
    "### What is the average user rating for movie named \"Terminator 2: Judgment Day (1991)\"?"
   ]
  },
  {
   "cell_type": "code",
   "execution_count": null,
   "id": "08c51eef",
   "metadata": {},
   "outputs": [],
   "source": [
    "terminator2_movieId = movies_data[\n",
    "    movies_data[\"title\"] == \"Terminator 2: Judgment Day (1991)\"\n",
    "][\"movieId\"].iloc[0]\n",
    "terminator2_avg_rating = ratings_data[ratings_data[\"movieId\"] == terminator2_movieId][\n",
    "    \"rating\"\n",
    "].mean()\n",
    "\n",
    "print(\"Average user rating for Terminator 2: Judgment Day (1991):\")\n",
    "print(terminator2_avg_rating)"
   ]
  },
  {
   "cell_type": "code",
   "execution_count": null,
   "id": "4d5ad8a1",
   "metadata": {},
   "outputs": [],
   "source": [
    "### How does the data distribution of user ratings for \"Fight Club (1999)\" movie looks like?"
   ]
  },
  {
   "cell_type": "code",
   "execution_count": null,
   "id": "2ab8f100",
   "metadata": {},
   "outputs": [],
   "source": [
    "fight_club_movieId = movies_data[\n",
    "    movies_data[\"title\"] == \"Fight Club (1999)\"\n",
    "][\"movieId\"].iloc[0]\n",
    "fight_club_ratings = ratings_data[ratings_data[\"movieId\"] == fight_club_movieId][\"rating\"]\n",
    "\n",
    "plt.figure(figsize=(10, 5))\n",
    "sns.kdeplot(fight_club_ratings)\n",
    "plt.title(\"Distribution of User Ratings for Fight Club (1999)\")\n",
    "plt.xlabel(\"Rating\")\n",
    "plt.ylabel(\"Density\")\n",
    "plt.show()"
   ]
  },
  {
   "cell_type": "code",
   "execution_count": null,
   "id": "56133a7c",
   "metadata": {},
   "outputs": [],
   "source": [
    "### Which movie is the most popular based on  average user ratings?"
   ]
  },
  {
   "cell_type": "code",
   "execution_count": null,
   "id": "66803ab2",
   "metadata": {},
   "outputs": [],
   "source": [
    "ratings_count = ratings_data.groupby(\"movieId\").size()\n",
    "movies_with_100plus_ratings = ratings_count[ratings_count >= 100].index\n",
    "average_ratings_100plus = (\n",
    "    ratings_data[ratings_data[\"movieId\"].isin(movies_with_100plus_ratings)]\n",
    "    .groupby(\"movieId\")[\"rating\"]\n",
    "    .mean()\n",
    ")\n",
    "most_popular_by_avg_rating_100plus = average_ratings_100plus.idxmax()\n",
    "most_popular_movie_title_100plus = movies_data[\n",
    "    movies_data[\"movieId\"] == most_popular_by_avg_rating_100plus\n",
    "][\"title\"].iloc[0]"
   ]
  },
  {
   "cell_type": "code",
   "execution_count": null,
   "id": "9481d63c",
   "metadata": {},
   "outputs": [],
   "source": [
    "### Select all the correct options which comes under top 5 popular movies based on number of user ratings."
   ]
  },
  {
   "cell_type": "code",
   "execution_count": null,
   "id": "a6a3d832",
   "metadata": {},
   "outputs": [],
   "source": [
    "top_movies_user_ratings = ratings_data[\"movieId\"].value_counts().head(5).index.tolist()\n",
    "top_movies_titles = movies_data[movies_data[\"movieId\"].isin(top_movies_user_ratings)][\n",
    "    \"title\"\n",
    "].tolist()\n",
    "top_movies_titles"
   ]
  },
  {
   "cell_type": "code",
   "execution_count": null,
   "id": "3d250766",
   "metadata": {},
   "outputs": [],
   "source": [
    "### Which Sci-Fi movie is \"third most popular\" based on the number of user ratings?"
   ]
  },
  {
   "cell_type": "code",
   "execution_count": null,
   "id": "3c5b87cc",
   "metadata": {},
   "outputs": [],
   "source": [
    "sci_fi_movies_data = movies_data[movies_data[\"genres\"].str.contains(\"Sci-Fi\")]\n",
    "sci_fi_movie_ratings = ratings_data[ratings_data[\"movieId\"].isin(sci_fi_movies_data[\"movieId\"])][\n",
    "    \"movieId\"\n",
    "].value_counts()\n",
    "third_most_popular_sci_fi_movie_id = sci_fi_movie_ratings.index[2]\n",
    "third_most_popular_sci_fi_movie_title = movies_data[\n",
    "    movies_data[\"movieId\"] == third_most_popular_sci_fi_movie_id\n",
    "][\"title\"].iloc[0]\n"
   ]
  },
  {
   "cell_type": "code",
   "execution_count": null,
   "id": "b35020e1",
   "metadata": {},
   "outputs": [],
   "source": [
    "### Mention the movieId of the movie which has the highest IMDB rating."
   ]
  },
  {
   "cell_type": "code",
   "execution_count": null,
   "id": "aceee477",
   "metadata": {},
   "outputs": [],
   "source": [
    "merged_ratings_imdb_data = average_ratings_100plus.reset_index().merge(\n",
    "    links_data, on=\"movieId\"\n",
    ")"
   ]
  },
  {
   "cell_type": "code",
   "execution_count": null,
   "id": "9ab931bc",
   "metadata": {},
   "outputs": [],
   "source": [
    "highest_imdb_rating = merged_ratings_imdb_data[\"rating\"].max()\n",
    "highest_imdb_movieId = merged_ratings_imdb_data[\n",
    "    merged_ratings_imdb_data[\"rating\"] == highest_imdb_rating\n",
    "][\"movieId\"].iloc[0]"
   ]
  },
  {
   "cell_type": "code",
   "execution_count": null,
   "id": "0eccb39a",
   "metadata": {},
   "outputs": [],
   "source": [
    "print(highest_imdb_movieId)"
   ]
  },
  {
   "cell_type": "code",
   "execution_count": null,
   "id": "3042fe78",
   "metadata": {},
   "outputs": [],
   "source": [
    "movies_data[movies_data[\"movieId\"] == 318]"
   ]
  },
  {
   "cell_type": "code",
   "execution_count": null,
   "id": "23915cc1",
   "metadata": {},
   "outputs": [],
   "source": [
    "### Mention the movieId of the \"Sci-Fi\" movie which has the highest IMDB rating."
   ]
  },
  {
   "cell_type": "code",
   "execution_count": null,
   "id": "630ac89e",
   "metadata": {},
   "outputs": [],
   "source": [
    "sci_fi_movies_data = movies_data[movies_data[\"genres\"].str.contains(\"Sci-Fi\")]\n",
    "sci_fi_ratings_data = sci_fi_movies_data.merge(\n",
    "    average_ratings_100plus.reset_index(), on=\"movieId\"\n",
    ")\n",
    "highest_rated_sci_fi_movie_data = sci_fi_ratings_data[\n",
    "    sci_fi_ratings_data[\"rating\"] == sci_fi_ratings_data[\"rating\"].max()\n",
    "]\n",
    "highest_rated_sci_fi_movie_data[[\"movieId\", \"title\", \"rating\"]]\n"
   ]
  },
  {
   "cell_type": "code",
   "execution_count": null,
   "id": "e3a468f3",
   "metadata": {},
   "outputs": [],
   "source": []
  }
 ],
 "metadata": {
  "kernelspec": {
   "display_name": "Python 3 (ipykernel)",
   "language": "python",
   "name": "python3"
  },
  "language_info": {
   "codemirror_mode": {
    "name": "ipython",
    "version": 3
   },
   "file_extension": ".py",
   "mimetype": "text/x-python",
   "name": "python",
   "nbconvert_exporter": "python",
   "pygments_lexer": "ipython3",
   "version": "3.11.5"
  }
 },
 "nbformat": 4,
 "nbformat_minor": 5
}
